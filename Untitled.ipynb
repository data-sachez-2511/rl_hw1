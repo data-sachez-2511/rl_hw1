{
 "cells": [
  {
   "cell_type": "code",
   "execution_count": 150,
   "metadata": {},
   "outputs": [],
   "source": [
    "from random import randint\n",
    "from tqdm.notebook import tqdm\n",
    "import matplotlib.pyplot as plt\n",
    "import numpy as np\n",
    "\n",
    "import gym\n",
    "from gym import spaces\n",
    "from gym.utils import seeding\n",
    "\n",
    "def cmp(a, b):\n",
    "    return float(a > b) - float(a < b)\n",
    "\n",
    "# 1 = Ace, 2-10 = Number cards, Jack/Queen/King = 10\n",
    "deck_base = sum([[i for _ in range(4)] for i in range(1, 11)], [])\n",
    "deck_base += [10 for _ in range(4)] + [10 for _ in range(4)] + [10 for _ in range(4)]\n",
    "map_score = {1: -1, 2: 1, 3: 1, 4: 1, 5: 1, 6: 1, 7: 0, 8: 0, 9: 0, 10: -1}\n",
    "\n",
    "\n",
    "\n",
    "def draw_card(choicer, deck):\n",
    "    return choicer(deck)\n",
    "\n",
    "def draw_hand(choicer, deck):\n",
    "    return [draw_card(choicer, deck), draw_card(choicer, deck)]\n",
    "\n",
    "\n",
    "def usable_ace(hand):\n",
    "    return 1 in hand and sum(hand) + 10 <= 21\n",
    "\n",
    "\n",
    "def sum_hand(hand):  # Return current hand total\n",
    "    if usable_ace(hand):\n",
    "        return sum(hand) + 10\n",
    "    return sum(hand)\n",
    "\n",
    "\n",
    "def is_bust(hand):  # Is this hand a bust?\n",
    "    return sum_hand(hand) > 21\n",
    "\n",
    "\n",
    "def score(hand):  # What is the score of this hand (0 if bust)\n",
    "    return 0 if is_bust(hand) else sum_hand(hand)\n",
    "\n",
    "\n",
    "def is_natural(hand):  # Is this hand a natural blackjack?\n",
    "    return sorted(hand) == [1, 10]\n",
    "\n",
    "def is_splitted(hand):\n",
    "    return len(hand) == 2 and hand[0] == hand[1]\n",
    "\n",
    "class Sampler:\n",
    "    def __init__(self, with_returns):\n",
    "        self.with_returns = with_returns\n",
    "    \n",
    "    def __call__(self, array):\n",
    "        idx = randint(0, len(array) - 1)\n",
    "        val = array[idx]\n",
    "        if not self.with_returns:\n",
    "            del array[idx]\n",
    "        return val\n",
    "\n",
    "\n",
    "class BlackjackEnv(gym.Env):\n",
    "    def __init__(self, natural=False, with_double=False, with_count=False, with_split=False, min_deck_size=17):\n",
    "        '''\n",
    "        без double действия split нет\n",
    "        '''\n",
    "        self.sampler = Sampler(not with_count)\n",
    "        self.deck = deck_base.copy()\n",
    "        self.score = 0\n",
    "        self.with_double = with_double\n",
    "        self.with_count = with_count\n",
    "        self.with_split = with_split\n",
    "        self.stages = dict()\n",
    "        self.stages_r = dict()\n",
    "        self.action_space = spaces.Discrete(2 + with_double + with_split)\n",
    "        self.seed()\n",
    "        self.natural = natural\n",
    "        self.player = []\n",
    "        self.dealer = []\n",
    "        self.reset()\n",
    "\n",
    "    @property\n",
    "    def s(self):\n",
    "        s = [(tuple(hand[0]), hand[2]) for hand in self.player]\n",
    "        if self.with_count:\n",
    "            s = (tuple(s), self.dealer[0], self.score)\n",
    "        else:\n",
    "            s = (tuple(s), self.dealer[0], 0)\n",
    "        return self.stages[s]\n",
    "    \n",
    "    @property\n",
    "    def nS(self):\n",
    "#         approximate\n",
    "        return len(self.stages)\n",
    "    \n",
    "    @property\n",
    "    def nA(self):\n",
    "        if self.with_double and self.with_split:\n",
    "            return 4\n",
    "        elif self.with_double:\n",
    "            return 3\n",
    "        else:\n",
    "            return 2\n",
    "\n",
    "    def step(self, action, hand_idx):\n",
    "        assert self.action_space.contains(action)\n",
    "        assert hand_idx < len(self.player)\n",
    "        if action in [0, 2]: #stand\n",
    "            if action == 2:\n",
    "                self.player[hand_idx][0].append(draw_card(self.sampler, self.deck))\n",
    "                self.score += map_score[self.player[hand_idx][0][-1]]\n",
    "            done = True\n",
    "            while sum_hand(self.dealer) < 17:\n",
    "                self.dealer.append(draw_card(self.sampler, self.deck))\n",
    "                self.score += map_score[self.dealer[-1]]\n",
    "            reward = cmp(score(self.player[hand_idx][0]), score(self.dealer))\n",
    "            if self.natural and is_natural(self.player[hand_idx][0]) and reward == 1.:\n",
    "                reward = 1.5\n",
    "            if action == 2:\n",
    "                reward *= 2\n",
    "        if action == 1:\n",
    "            self.player[hand_idx][0].append(draw_card(self.sampler, self.deck))\n",
    "            if is_bust(self.player[hand_idx][0]):\n",
    "                done = True\n",
    "                reward = -1.\n",
    "            else:\n",
    "                done = False\n",
    "                reward = 0.\n",
    "        if action == 3:\n",
    "            if len(self.player[hand_idx][0]) == 2 and self.player[hand_idx][0][0] == self.player[hand_idx][0][1]:\n",
    "                self.player[hand_idx][0][1] = draw_card(self.sampler, self.deck)\n",
    "                self.score += map_score[self.player[hand_idx][0][1]]\n",
    "                self.player.append(([self.player[hand_idx][0][0], draw_card(self.sampler, self.deck)], 0., False))\n",
    "                self.score += map_score[self.player[-1][0][1]]\n",
    "            done = False\n",
    "            reward = 0.\n",
    "        self.player[hand_idx] = (self.player[hand_idx][0], reward, done)\n",
    "        self.update_s_()\n",
    "        return self.s, reward, done, {}\n",
    "\n",
    "    def reset(self):\n",
    "        if len(self.deck) <= 17:\n",
    "            self.deck = deck_base.copy()\n",
    "            self.score = 0\n",
    "        self.dealer = draw_hand(self.sampler, self.deck)\n",
    "        self.player = [(draw_hand(self.sampler, self.deck), 0., False)]\n",
    "        self.score += map_score[self.player[0][0][0]] + map_score[self.player[0][0][1]] + map_score[self.dealer[0]] + map_score[self.dealer[1]]\n",
    "        self.update_s_()       \n",
    "        return self.s\n",
    "    \n",
    "    def update_s_(self):\n",
    "        self.player = sorted(self.player)\n",
    "        s = [(tuple(hand[0]), hand[2]) for hand in self.player]\n",
    "        if self.with_count:\n",
    "            s = (tuple(s), self.dealer[0], self.score)\n",
    "        else:\n",
    "            s = (tuple(s), self.dealer[0], 0) \n",
    "        if not s in self.stages:\n",
    "            self.stages_r[len(self.stages)] = s\n",
    "            self.stages[s] = len(self.stages)       \n",
    "            \n",
    "    def avilable_actions(self, stage):\n",
    "        assert stage in self.stages_r\n",
    "        s = self.stages_r[stage]\n",
    "        actions = []\n",
    "        for player_idx in range(len(s[0])):\n",
    "            hand = self.player[player_idx][0]\n",
    "            if s[0][player_idx][1]:\n",
    "                action = []\n",
    "            else:\n",
    "                if self.with_split:\n",
    "                    if is_splitted(hand):\n",
    "                        action = list(range(4))\n",
    "                    else:\n",
    "                        action = list(range(3))\n",
    "                else:\n",
    "                    action = list(range(self.nA))\n",
    "            for action_idx in action:\n",
    "                actions.append((player_idx, action_idx))\n",
    "        return actions\n",
    "\n",
    "    def done(self):\n",
    "        return sum([hand[2] for hand in self.player]) == len(self.player)"
   ]
  },
  {
   "cell_type": "code",
   "execution_count": 151,
   "metadata": {},
   "outputs": [],
   "source": [
    "def get_probs(Qs, e, nA):\n",
    "    policy_s = np.ones(nA) * e / nA\n",
    "    best_a = np.argmax(Qs)\n",
    "    policy_s[best_a] = 1 - e + (e / nA)\n",
    "    return policy_s\n",
    "\n",
    "def best_policy(Q, nA):\n",
    "    return [np.argmax(Q[s]) if len(Q[s]) > 0 else 0 for s in range(len(Q))]\n",
    "\n",
    "def update_Q(env, episode, Q, alpha, gamma):\n",
    "    for s, a, r in episode:\n",
    "        fo_idx = next(i for i, x in enumerate(episode) if x[0] == s)\n",
    "        G = sum([x[2] * (gamma ** i) for i, x in enumerate(episode[fo_idx:])])\n",
    "        Q[s][a] = Q[s][a] + alpha * (G - Q[s][a])\n",
    "    return Q\n",
    "\n",
    "def run_episode(env, Q, e):\n",
    "    episode = []\n",
    "    env.reset()\n",
    "    state = env.s\n",
    "    count = 0\n",
    "    while True:\n",
    "        count+=1\n",
    "        if len(Q) < env.nS:\n",
    "            Q += [[] for _ in range(1000)]\n",
    "        actions = env.avilable_actions(state)\n",
    "        if len(Q[state]) == 0:\n",
    "            Q[state] = [0. for _ in range(len(actions))]\n",
    "        probs = get_probs(Q[state], e, len(Q[state]))\n",
    "        action = np.random.choice(len(Q[state]), p=probs)\n",
    "        player_idx, action = actions[action]\n",
    "        next_state, reward, done, info = env.step(action, player_idx)\n",
    "        reward = sum([player[1] for player in env.player if player[1] < 0.])\n",
    "        if env.done():\n",
    "            reward = sum([player[1] for player in env.player])\n",
    "        episode.append((state, action, reward))\n",
    "        if env.done():\n",
    "            break\n",
    "        state = env.s\n",
    "            \n",
    "    return episode\n",
    "\n",
    "\n",
    "def MC_control(env, num_episodes=10000, alpha=0.001, gamma=1.0):\n",
    "    eps = np.arange(1.0, 0, -1 / num_episodes)\n",
    "    Q = [[] for _ in range(2000)]\n",
    "    for eps_idx in tqdm(range(num_episodes)):\n",
    "        e = eps[eps_idx]\n",
    "        episode = run_episode(env, Q, e)\n",
    "        Q = update_Q(env, episode, Q, alpha, gamma)\n",
    "        policy = best_policy(Q, env.nA) \n",
    "    return policy, Q\n",
    "\n",
    "def test(env, policy, num_iterations=10000):\n",
    "    rewards = []\n",
    "    for _ in tqdm(range(num_iterations)):\n",
    "        env.reset()\n",
    "        state = env.s\n",
    "        while True:\n",
    "            actions = env.avilable_actions(state)\n",
    "            if state >= len(policy):\n",
    "                player_idx, action = actions[np.random.choice(range(len(actions)))]\n",
    "            else:  \n",
    "                action = policy[state]\n",
    "                player_idx, action = actions[action]\n",
    "            next_state, reward, done, info = env.step(action, player_idx)\n",
    "            if self.done():\n",
    "                reward = sum([player[1] for player in env.player])\n",
    "                break\n",
    "            state = env.s\n",
    "        rewards.append(reward)\n",
    "    return rewards"
   ]
  },
  {
   "cell_type": "code",
   "execution_count": 143,
   "metadata": {},
   "outputs": [
    {
     "data": {
      "application/vnd.jupyter.widget-view+json": {
       "model_id": "1c723969ac9b454a86ede8718a72a73f",
       "version_major": 2,
       "version_minor": 0
      },
      "text/plain": [
       "HBox(children=(FloatProgress(value=0.0, max=100000.0), HTML(value='')))"
      ]
     },
     "metadata": {},
     "output_type": "display_data"
    },
    {
     "name": "stdout",
     "output_type": "stream",
     "text": [
      "players: [([10, 10], 0.0, False)]\n",
      "s ((((10, 10), False),), 1, 0)\n",
      "actions [(0, 0), (0, 1)]\n"
     ]
    },
    {
     "ename": "AttributeError",
     "evalue": "'BlackjackEnv' object has no attribute 'done'",
     "output_type": "error",
     "traceback": [
      "\u001b[1;31m---------------------------------------------------------------------------\u001b[0m",
      "\u001b[1;31mAttributeError\u001b[0m                            Traceback (most recent call last)",
      "\u001b[1;32m<ipython-input-143-069e8e4ec162>\u001b[0m in \u001b[0;36m<module>\u001b[1;34m\u001b[0m\n\u001b[0;32m      6\u001b[0m \u001b[1;32mfor\u001b[0m \u001b[0malpha\u001b[0m \u001b[1;32min\u001b[0m \u001b[0malpha_list\u001b[0m\u001b[1;33m:\u001b[0m\u001b[1;33m\u001b[0m\u001b[1;33m\u001b[0m\u001b[0m\n\u001b[0;32m      7\u001b[0m     \u001b[1;32mfor\u001b[0m \u001b[0mgamma\u001b[0m \u001b[1;32min\u001b[0m \u001b[0mgamma_list\u001b[0m\u001b[1;33m:\u001b[0m\u001b[1;33m\u001b[0m\u001b[1;33m\u001b[0m\u001b[0m\n\u001b[1;32m----> 8\u001b[1;33m         \u001b[0mpolicy\u001b[0m\u001b[1;33m,\u001b[0m \u001b[0mQ\u001b[0m \u001b[1;33m=\u001b[0m \u001b[0mMC_control\u001b[0m\u001b[1;33m(\u001b[0m\u001b[0menv\u001b[0m\u001b[1;33m,\u001b[0m \u001b[0malpha\u001b[0m\u001b[1;33m=\u001b[0m\u001b[0malpha\u001b[0m\u001b[1;33m,\u001b[0m \u001b[0mgamma\u001b[0m\u001b[1;33m=\u001b[0m\u001b[0mgamma\u001b[0m\u001b[1;33m,\u001b[0m \u001b[0mnum_episodes\u001b[0m\u001b[1;33m=\u001b[0m\u001b[1;36m100000\u001b[0m\u001b[1;33m)\u001b[0m\u001b[1;33m\u001b[0m\u001b[1;33m\u001b[0m\u001b[0m\n\u001b[0m\u001b[0;32m      9\u001b[0m         \u001b[0mpolicy_list\u001b[0m\u001b[1;33m.\u001b[0m\u001b[0mappend\u001b[0m\u001b[1;33m(\u001b[0m\u001b[1;33m(\u001b[0m\u001b[0mpolicy\u001b[0m\u001b[1;33m,\u001b[0m \u001b[0malpha\u001b[0m\u001b[1;33m,\u001b[0m \u001b[0mgamma\u001b[0m\u001b[1;33m)\u001b[0m\u001b[1;33m)\u001b[0m\u001b[1;33m\u001b[0m\u001b[1;33m\u001b[0m\u001b[0m\n\u001b[0;32m     10\u001b[0m         \u001b[0mQ_list\u001b[0m\u001b[1;33m.\u001b[0m\u001b[0mappend\u001b[0m\u001b[1;33m(\u001b[0m\u001b[1;33m(\u001b[0m\u001b[0mQ\u001b[0m\u001b[1;33m,\u001b[0m \u001b[0malpha\u001b[0m\u001b[1;33m,\u001b[0m \u001b[0mgamma\u001b[0m\u001b[1;33m)\u001b[0m\u001b[1;33m)\u001b[0m\u001b[1;33m\u001b[0m\u001b[1;33m\u001b[0m\u001b[0m\n",
      "\u001b[1;32m<ipython-input-142-8809750bc3f5>\u001b[0m in \u001b[0;36mMC_control\u001b[1;34m(env, num_episodes, alpha, gamma)\u001b[0m\n\u001b[0;32m     47\u001b[0m     \u001b[1;32mfor\u001b[0m \u001b[0meps_idx\u001b[0m \u001b[1;32min\u001b[0m \u001b[0mtqdm\u001b[0m\u001b[1;33m(\u001b[0m\u001b[0mrange\u001b[0m\u001b[1;33m(\u001b[0m\u001b[0mnum_episodes\u001b[0m\u001b[1;33m)\u001b[0m\u001b[1;33m)\u001b[0m\u001b[1;33m:\u001b[0m\u001b[1;33m\u001b[0m\u001b[1;33m\u001b[0m\u001b[0m\n\u001b[0;32m     48\u001b[0m         \u001b[0me\u001b[0m \u001b[1;33m=\u001b[0m \u001b[0meps\u001b[0m\u001b[1;33m[\u001b[0m\u001b[0meps_idx\u001b[0m\u001b[1;33m]\u001b[0m\u001b[1;33m\u001b[0m\u001b[1;33m\u001b[0m\u001b[0m\n\u001b[1;32m---> 49\u001b[1;33m         \u001b[0mepisode\u001b[0m \u001b[1;33m=\u001b[0m \u001b[0mrun_episode\u001b[0m\u001b[1;33m(\u001b[0m\u001b[0menv\u001b[0m\u001b[1;33m,\u001b[0m \u001b[0mQ\u001b[0m\u001b[1;33m,\u001b[0m \u001b[0me\u001b[0m\u001b[1;33m)\u001b[0m\u001b[1;33m\u001b[0m\u001b[1;33m\u001b[0m\u001b[0m\n\u001b[0m\u001b[0;32m     50\u001b[0m         \u001b[0mQ\u001b[0m \u001b[1;33m=\u001b[0m \u001b[0mupdate_Q\u001b[0m\u001b[1;33m(\u001b[0m\u001b[0menv\u001b[0m\u001b[1;33m,\u001b[0m \u001b[0mepisode\u001b[0m\u001b[1;33m,\u001b[0m \u001b[0mQ\u001b[0m\u001b[1;33m,\u001b[0m \u001b[0malpha\u001b[0m\u001b[1;33m,\u001b[0m \u001b[0mgamma\u001b[0m\u001b[1;33m)\u001b[0m\u001b[1;33m\u001b[0m\u001b[1;33m\u001b[0m\u001b[0m\n\u001b[0;32m     51\u001b[0m         \u001b[0mpolicy\u001b[0m \u001b[1;33m=\u001b[0m \u001b[0mbest_policy\u001b[0m\u001b[1;33m(\u001b[0m\u001b[0mQ\u001b[0m\u001b[1;33m,\u001b[0m \u001b[0menv\u001b[0m\u001b[1;33m.\u001b[0m\u001b[0mnA\u001b[0m\u001b[1;33m)\u001b[0m\u001b[1;33m\u001b[0m\u001b[1;33m\u001b[0m\u001b[0m\n",
      "\u001b[1;32m<ipython-input-142-8809750bc3f5>\u001b[0m in \u001b[0;36mrun_episode\u001b[1;34m(env, Q, e)\u001b[0m\n\u001b[0;32m     32\u001b[0m         \u001b[0mnext_state\u001b[0m\u001b[1;33m,\u001b[0m \u001b[0mreward\u001b[0m\u001b[1;33m,\u001b[0m \u001b[0mdone\u001b[0m\u001b[1;33m,\u001b[0m \u001b[0minfo\u001b[0m \u001b[1;33m=\u001b[0m \u001b[0menv\u001b[0m\u001b[1;33m.\u001b[0m\u001b[0mstep\u001b[0m\u001b[1;33m(\u001b[0m\u001b[0maction\u001b[0m\u001b[1;33m,\u001b[0m \u001b[0mplayer_idx\u001b[0m\u001b[1;33m)\u001b[0m\u001b[1;33m\u001b[0m\u001b[1;33m\u001b[0m\u001b[0m\n\u001b[0;32m     33\u001b[0m         \u001b[0mreward\u001b[0m \u001b[1;33m=\u001b[0m \u001b[0msum\u001b[0m\u001b[1;33m(\u001b[0m\u001b[1;33m[\u001b[0m\u001b[0mplayer\u001b[0m\u001b[1;33m[\u001b[0m\u001b[1;36m1\u001b[0m\u001b[1;33m]\u001b[0m \u001b[1;32mfor\u001b[0m \u001b[0mplayer\u001b[0m \u001b[1;32min\u001b[0m \u001b[0menv\u001b[0m\u001b[1;33m.\u001b[0m\u001b[0mplayer\u001b[0m \u001b[1;32mif\u001b[0m \u001b[0mplayer\u001b[0m\u001b[1;33m[\u001b[0m\u001b[1;36m1\u001b[0m\u001b[1;33m]\u001b[0m \u001b[1;33m<\u001b[0m \u001b[1;36m0.\u001b[0m\u001b[1;33m]\u001b[0m\u001b[1;33m)\u001b[0m\u001b[1;33m\u001b[0m\u001b[1;33m\u001b[0m\u001b[0m\n\u001b[1;32m---> 34\u001b[1;33m         \u001b[1;32mif\u001b[0m \u001b[0menv\u001b[0m\u001b[1;33m.\u001b[0m\u001b[0mdone\u001b[0m\u001b[1;33m(\u001b[0m\u001b[1;33m)\u001b[0m\u001b[1;33m:\u001b[0m\u001b[1;33m\u001b[0m\u001b[1;33m\u001b[0m\u001b[0m\n\u001b[0m\u001b[0;32m     35\u001b[0m             \u001b[0mreward\u001b[0m \u001b[1;33m=\u001b[0m \u001b[0msum\u001b[0m\u001b[1;33m(\u001b[0m\u001b[1;33m[\u001b[0m\u001b[0mplayer\u001b[0m\u001b[1;33m[\u001b[0m\u001b[1;36m1\u001b[0m\u001b[1;33m]\u001b[0m \u001b[1;32mfor\u001b[0m \u001b[0mplayer\u001b[0m \u001b[1;32min\u001b[0m \u001b[0menv\u001b[0m\u001b[1;33m.\u001b[0m\u001b[0mplayer\u001b[0m\u001b[1;33m]\u001b[0m\u001b[1;33m)\u001b[0m\u001b[1;33m\u001b[0m\u001b[1;33m\u001b[0m\u001b[0m\n\u001b[0;32m     36\u001b[0m         \u001b[0mepisode\u001b[0m\u001b[1;33m.\u001b[0m\u001b[0mappend\u001b[0m\u001b[1;33m(\u001b[0m\u001b[1;33m(\u001b[0m\u001b[0mstate\u001b[0m\u001b[1;33m,\u001b[0m \u001b[0maction\u001b[0m\u001b[1;33m,\u001b[0m \u001b[0mreward\u001b[0m\u001b[1;33m)\u001b[0m\u001b[1;33m)\u001b[0m\u001b[1;33m\u001b[0m\u001b[1;33m\u001b[0m\u001b[0m\n",
      "\u001b[1;31mAttributeError\u001b[0m: 'BlackjackEnv' object has no attribute 'done'"
     ]
    }
   ],
   "source": [
    "env = BlackjackEnv(with_double=False, with_count=False, with_split=False, min_deck_size=17)\n",
    "policy_list = []\n",
    "Q_list = []\n",
    "alpha_list = [0.001]\n",
    "gamma_list = [1.0]\n",
    "for alpha in alpha_list:\n",
    "    for gamma in gamma_list:    \n",
    "        policy, Q = MC_control(env, alpha=alpha, gamma=gamma, num_episodes=100000)\n",
    "        policy_list.append((policy, alpha, gamma))\n",
    "        Q_list.append((Q, alpha, gamma))"
   ]
  },
  {
   "cell_type": "code",
   "execution_count": 52,
   "metadata": {},
   "outputs": [
    {
     "data": {
      "application/vnd.jupyter.widget-view+json": {
       "model_id": "c97e0c06ecaf4affbfa860d4b18ec1b6",
       "version_major": 2,
       "version_minor": 0
      },
      "text/plain": [
       "HBox(children=(FloatProgress(value=0.0, max=10000.0), HTML(value='')))"
      ]
     },
     "metadata": {},
     "output_type": "display_data"
    },
    {
     "name": "stdout",
     "output_type": "stream",
     "text": [
      "\n",
      "Alpha: 0.001, Gamma: 1.0, Mean R: -0.0036669345626012323, Test: -0.0598 (0, 0) (0, 1)\n"
     ]
    },
    {
     "data": {
      "text/plain": [
       "[<matplotlib.lines.Line2D at 0x1a2f7354cc8>]"
      ]
     },
     "execution_count": 52,
     "metadata": {},
     "output_type": "execute_result"
    },
    {
     "data": {
      "image/png": "[encoded data removed]",
      "text/plain": [
       "<Figure size 432x288 with 1 Axes>"
      ]
     },
     "metadata": {
      "needs_background": "light"
     },
     "output_type": "display_data"
    }
   ],
   "source": [
    "%matplotlib inline\n",
    "\n",
    "V_list = []\n",
    "for i in range(len(Q_list)):\n",
    "    V = np.array([np.max(Qs) if len(Qs) > 0 else 0 for Qs in Q_list[i][0]])\n",
    "    V_list.append((V, Q_list[i][1], Q_list[i][2]))\n",
    "V_idx = max(range(len(V_list)), key=lambda i: np.mean(V_list[i][0]))\n",
    "V = V_list[V_idx]\n",
    "policy = policy_list[V_idx]\n",
    "\n",
    "print('Alpha: {}, Gamma: {}, Mean R: {}, Test: {}'.format(V[1], V[2], np.mean(V[0][:env.nS]), np.mean(test(env, policy[0]))), (0, 0), (0, 1))\n",
    "plt.plot(range(env.nS), V[0][:env.nS])"
   ]
  },
  {
   "cell_type": "code",
   "execution_count": 53,
   "metadata": {},
   "outputs": [
    {
     "data": {
      "application/vnd.jupyter.widget-view+json": {
       "model_id": "af73f14d52534c7ebd30a301dbee467e",
       "version_major": 2,
       "version_minor": 0
      },
      "text/plain": [
       "HBox(children=(FloatProgress(value=0.0, max=100000.0), HTML(value='')))"
      ]
     },
     "metadata": {},
     "output_type": "display_data"
    },
    {
     "name": "stdout",
     "output_type": "stream",
     "text": [
      "\n"
     ]
    }
   ],
   "source": [
    "env = BlackjackEnv(with_double=True, with_count=False, with_split=False, min_deck_size=17)\n",
    "policy_list = []\n",
    "Q_list = []\n",
    "alpha_list = [0.001]\n",
    "gamma_list = [1.0]\n",
    "for alpha in alpha_list:\n",
    "    for gamma in gamma_list:    \n",
    "        policy, Q = MC_control(env, alpha=alpha, gamma=gamma, num_episodes=100000)\n",
    "        policy_list.append((policy, alpha, gamma))\n",
    "        Q_list.append((Q, alpha, gamma))"
   ]
  },
  {
   "cell_type": "code",
   "execution_count": 54,
   "metadata": {},
   "outputs": [
    {
     "data": {
      "application/vnd.jupyter.widget-view+json": {
       "model_id": "3dfc98550cf44445a8948871d4116aef",
       "version_major": 2,
       "version_minor": 0
      },
      "text/plain": [
       "HBox(children=(FloatProgress(value=0.0, max=10000.0), HTML(value='')))"
      ]
     },
     "metadata": {},
     "output_type": "display_data"
    },
    {
     "name": "stdout",
     "output_type": "stream",
     "text": [
      "\n",
      "Alpha: 0.001, Gamma: 1.0, Mean R: 0.0006498249089634324, Test: -0.082 (0, 0) (0, 1)\n"
     ]
    },
    {
     "data": {
      "text/plain": [
       "[<matplotlib.lines.Line2D at 0x1a2f6cefa88>]"
      ]
     },
     "execution_count": 54,
     "metadata": {},
     "output_type": "execute_result"
    },
    {
     "data": {
      "image/png": "[encoded data removed]",
      "text/plain": [
       "<Figure size 432x288 with 1 Axes>"
      ]
     },
     "metadata": {
      "needs_background": "light"
     },
     "output_type": "display_data"
    }
   ],
   "source": [
    "%matplotlib inline\n",
    "\n",
    "V_list = []\n",
    "for i in range(len(Q_list)):\n",
    "    V = np.array([np.max(Qs) if len(Qs) > 0 else 0 for Qs in Q_list[i][0]])\n",
    "    V_list.append((V, Q_list[i][1], Q_list[i][2]))\n",
    "V_idx = max(range(len(V_list)), key=lambda i: np.mean(V_list[i][0]))\n",
    "V = V_list[V_idx]\n",
    "policy = policy_list[V_idx]\n",
    "\n",
    "print('Alpha: {}, Gamma: {}, Mean R: {}, Test: {}'.format(V[1], V[2], np.mean(V[0][:env.nS]), np.mean(test(env, policy[0]))), (0, 0), (0, 1))\n",
    "plt.plot(range(env.nS), V[0][:env.nS])"
   ]
  },
  {
   "cell_type": "code",
   "execution_count": 55,
   "metadata": {},
   "outputs": [
    {
     "data": {
      "application/vnd.jupyter.widget-view+json": {
       "model_id": "6b27db24c87847178ef5dbbd648febaa",
       "version_major": 2,
       "version_minor": 0
      },
      "text/plain": [
       "HBox(children=(FloatProgress(value=0.0, max=100000.0), HTML(value='')))"
      ]
     },
     "metadata": {},
     "output_type": "display_data"
    },
    {
     "name": "stdout",
     "output_type": "stream",
     "text": [
      "\n"
     ]
    }
   ],
   "source": [
    "env = BlackjackEnv(with_double=True, with_count=True, with_split=False, min_deck_size=17)\n",
    "policy_list = []\n",
    "Q_list = []\n",
    "alpha_list = [0.001]\n",
    "gamma_list = [1.0]\n",
    "for alpha in alpha_list:\n",
    "    for gamma in gamma_list:    \n",
    "        policy, Q = MC_control(env, alpha=alpha, gamma=gamma, num_episodes=100000)\n",
    "        policy_list.append((policy, alpha, gamma))\n",
    "        Q_list.append((Q, alpha, gamma))"
   ]
  },
  {
   "cell_type": "code",
   "execution_count": 87,
   "metadata": {},
   "outputs": [
    {
     "data": {
      "application/vnd.jupyter.widget-view+json": {
       "model_id": "07ecd01f885c40e392f0aaeaaf8418d7",
       "version_major": 2,
       "version_minor": 0
      },
      "text/plain": [
       "HBox(children=(FloatProgress(value=0.0, max=10000.0), HTML(value='')))"
      ]
     },
     "metadata": {},
     "output_type": "display_data"
    },
    {
     "name": "stdout",
     "output_type": "stream",
     "text": [
      "\n",
      "Alpha: 0.001, Gamma: 1.0, Mean R: 0.00027296569218572124, Test: -0.1087 (0, 0) (0, 1)\n"
     ]
    },
    {
     "data": {
      "text/plain": [
       "[<matplotlib.lines.Line2D at 0x1a2f9077248>]"
      ]
     },
     "execution_count": 87,
     "metadata": {},
     "output_type": "execute_result"
    },
    {
     "data": {
      "image/png": "[encoded data removed]",
      "text/plain": [
       "<Figure size 432x288 with 1 Axes>"
      ]
     },
     "metadata": {
      "needs_background": "light"
     },
     "output_type": "display_data"
    }
   ],
   "source": [
    "%matplotlib inline\n",
    "\n",
    "V_list = []\n",
    "for i in range(len(Q_list)):\n",
    "    V = np.array([np.max(Qs) if len(Qs) > 0 else 0 for Qs in Q_list[i][0]])\n",
    "    V_list.append((V, Q_list[i][1], Q_list[i][2]))\n",
    "V_idx = max(range(len(V_list)), key=lambda i: np.mean(V_list[i][0]))\n",
    "V = V_list[V_idx]\n",
    "policy = policy_list[V_idx]\n",
    "\n",
    "print('Alpha: {}, Gamma: {}, Mean R: {}, Test: {}'.format(V[1], V[2], np.mean(V[0][:env.nS]), np.mean(test(env, policy[0]))), (0, 0), (0, 1))\n",
    "plt.plot(range(len(V[0])), V[0])"
   ]
  },
  {
   "cell_type": "code",
   "execution_count": null,
   "metadata": {},
   "outputs": [
    {
     "data": {
      "application/vnd.jupyter.widget-view+json": {
       "model_id": "16855e4e2c3f4aceabd030405b72490f",
       "version_major": 2,
       "version_minor": 0
      },
      "text/plain": [
       "HBox(children=(FloatProgress(value=0.0, max=50000.0), HTML(value='')))"
      ]
     },
     "metadata": {},
     "output_type": "display_data"
    }
   ],
   "source": [
    "env = BlackjackEnv(with_double=True, with_count=True, with_split=True, min_deck_size=17)\n",
    "policy_list = []\n",
    "Q_list = []\n",
    "alpha_list = [0.001]\n",
    "gamma_list = [1.0]\n",
    "for alpha in alpha_list:\n",
    "    for gamma in gamma_list:    \n",
    "        policy, Q = MC_control(env, alpha=alpha, gamma=gamma, num_episodes=50000)\n",
    "        policy_list.append((policy, alpha, gamma))\n",
    "        Q_list.append((Q, alpha, gamma))"
   ]
  },
  {
   "cell_type": "code",
   "execution_count": 4,
   "metadata": {},
   "outputs": [
    {
     "name": "stdout",
     "output_type": "stream",
     "text": [
      "Alpha: 0.001, Gamma: 1.0, Mean R: 0.0017017171081181372 (0, 0) (0, 1)\n"
     ]
    },
    {
     "data": {
      "text/plain": [
       "[<matplotlib.lines.Line2D at 0x1a2f5d97248>]"
      ]
     },
     "execution_count": 4,
     "metadata": {},
     "output_type": "execute_result"
    },
    {
     "data": {
      "image/png": "[encoded data removed]",
      "text/plain": [
       "<Figure size 432x288 with 1 Axes>"
      ]
     },
     "metadata": {
      "needs_background": "light"
     },
     "output_type": "display_data"
    }
   ],
   "source": [
    "%matplotlib inline\n",
    "\n",
    "V_list = []\n",
    "for i in range(len(Q_list)):\n",
    "    V = np.array([np.max(Qs) if len(Qs) > 0 else 0 for Qs in Q_list[i][0]])\n",
    "    V_list.append((V, Q_list[i][1], Q_list[i][2]))\n",
    "V_idx = max(range(len(V_list)), key=lambda i: np.mean(V_list[i][0]))\n",
    "V = V_list[V_idx]\n",
    "policy = policy_list[V_idx]\n",
    "\n",
    "print('Alpha: {}, Gamma: {}, Mean R: {}, Test: {}'.format(V[1], V[2], np.mean(V[0][:env.nS]), np.mean(test(env, policy[0]))), (0, 0), (0, 1))\n",
    "plt.plot(range(len(V[0])), V[0])"
   ]
  },
  {
   "cell_type": "code",
   "execution_count": null,
   "metadata": {},
   "outputs": [],
   "source": []
  }
 ],
 "metadata": {
  "kernelspec": {
   "display_name": "Python 3",
   "language": "python",
   "name": "python3"
  },
  "language_info": {
   "codemirror_mode": {
    "name": "ipython",
    "version": 3
   },
   "file_extension": ".py",
   "mimetype": "text/x-python",
   "name": "python",
   "nbconvert_exporter": "python",
   "pygments_lexer": "ipython3",
   "version": "3.7.4"
  }
 },
 "nbformat": 4,
 "nbformat_minor": 2
}
